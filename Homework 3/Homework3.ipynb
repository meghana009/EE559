{
  "nbformat": 4,
  "nbformat_minor": 0,
  "metadata": {
    "colab": {
      "provenance": []
    },
    "kernelspec": {
      "name": "python3",
      "display_name": "Python 3"
    },
    "language_info": {
      "name": "python"
    }
  },
  "cells": [
    {
      "cell_type": "markdown",
      "source": [
        "Homework 3\n",
        "\n",
        "Name: Venkata Meghana Achanta\n",
        "\n",
        "USC ID: 2578990261"
      ],
      "metadata": {
        "id": "9TTsIoHQ75Dw"
      }
    },
    {
      "cell_type": "code",
      "execution_count": null,
      "metadata": {
        "id": "ZKVtUCskx8bq"
      },
      "outputs": [],
      "source": [
        "import numpy as np\n",
        "import matplotlib.pyplot as plt\n",
        "import random\n",
        "from sklearn.utils import shuffle"
      ]
    },
    {
      "cell_type": "code",
      "source": [
        "def data_split(x,y):\n",
        "  xn_train = x[:,:-1]\n",
        "  xn_label = x[:,-1]\n",
        "  xn_test = y[:,:-1]\n",
        "  yn_label = y[:,-1]\n",
        "  return xn_train, xn_label, xn_test, yn_label"
      ],
      "metadata": {
        "id": "aSeaFEw1y-U-"
      },
      "execution_count": null,
      "outputs": []
    },
    {
      "cell_type": "code",
      "source": [
        "def ref(x,y):\n",
        "  z = np.zeros([y.shape[0],1])\n",
        "  for i in range(y.shape[0]):\n",
        "    if y[i] == 1:\n",
        "      z[i] = 1\n",
        "    else:\n",
        "      z[i] = -1\n",
        "  xn = np.column_stack((np.ones([x.shape[0],1],dtype=float),x))\n",
        "  g = np.multiply(xn, z)\n",
        "  return xn, g"
      ],
      "metadata": {
        "id": "Bh9bpyywzSBQ"
      },
      "execution_count": null,
      "outputs": []
    },
    {
      "cell_type": "code",
      "source": [
        "def crit(w,x):\n",
        "  j = 0\n",
        "  l = int(x.shape[0])\n",
        "  for i in range(l):\n",
        "    if (np.dot(w.T, x[i,:]) <= 0):\n",
        "      j = (j - np.dot(w.T, x[i,:]))\n",
        "  return j"
      ],
      "metadata": {
        "id": "LHIF4eTx1N28"
      },
      "execution_count": null,
      "outputs": []
    },
    {
      "cell_type": "code",
      "source": [
        "def predict(w,x):\n",
        "  w_pred = np.zeros([int(x.shape[0]),1])\n",
        "  for i in range(int(x.shape[0])):\n",
        "    z = np.dot(w.T, x[i,:])\n",
        "    if z < 0:\n",
        "      w_pred[i] = 2\n",
        "    else:\n",
        "      w_pred[i] = 1\n",
        "\n",
        "  return w_pred"
      ],
      "metadata": {
        "id": "DdtF4Vr43gzP"
      },
      "execution_count": null,
      "outputs": []
    },
    {
      "cell_type": "code",
      "source": [
        "def error(x,y):\n",
        "  count = 0\n",
        "  for i in range(int(x.shape[0])):\n",
        "    if x[i]!=y[i]:\n",
        "      count = count + 1\n",
        "  err = (count/int(x.shape[0]))*100\n",
        "  return err"
      ],
      "metadata": {
        "id": "0rXpauui6JKl"
      },
      "execution_count": null,
      "outputs": []
    },
    {
      "cell_type": "markdown",
      "source": [
        "Q4a)i. Sequential Gradient Descent"
      ],
      "metadata": {
        "id": "dgUxe-Eh7KSb"
      }
    },
    {
      "cell_type": "code",
      "source": [
        "data_train = np.array(np.loadtxt(\"/content/dataset1_train.csv\", delimiter = \",\", dtype = float))\n",
        "data_test = np.array(np.loadtxt(\"/content/dataset1_test.csv\", delimiter = \",\", dtype = float))"
      ],
      "metadata": {
        "id": "wTn4TS9Qyqqk"
      },
      "execution_count": null,
      "outputs": []
    },
    {
      "cell_type": "code",
      "source": [
        "xn_train,xn_label,xn_test,y_label = data_split(data_train, data_test)\n",
        "xn, g = ref(xn_train, xn_label)\n",
        "print(xn.shape, g.shape)\n",
        "#Shuffling the dataset\n",
        "xn = shuffle(xn, random_state = 150)\n",
        "g = shuffle(g, random_state = 150)\n",
        "xn_label = shuffle(xn_label, random_state = 150)\n",
        "\n",
        "#Initializing the weights\n",
        "w = 0.1*np.ones([3,1])\n",
        "w_out = np.ones([3,10000])\n",
        "\n",
        "#Training\n",
        "l = int(g.shape[0])\n",
        "epochs = int(10000/l)\n",
        "axis = []\n",
        "for i in range(epochs):\n",
        "  count = 0\n",
        "  for j in range(l):\n",
        "    ind = i*epochs + j\n",
        "    axis.append(ind + 1)\n",
        "    z = np.dot(w.T, g[j,:])\n",
        "\n",
        "    if z <= 0:\n",
        "      w = w + 1*g[j,:].reshape([3,1])\n",
        "      count = 0\n",
        "\n",
        "    else:\n",
        "      count = count + 1\n",
        "\n",
        "    w_out[:,ind] = w.T\n",
        "\n",
        "  if count == 100:\n",
        "    print('Linearly Separable')\n",
        "    break\n",
        "\n",
        "J_d = np.zeros(10000)\n",
        "\n",
        "for j in range(10000):\n",
        "  J_d[j] = crit(w_out[:,j], g)\n",
        "\n",
        "w_opt = w_out[:, np.argmin(J_d)]\n",
        "print('The optimal weights are:', w_opt)\n",
        "\n",
        "train_label = predict(w_opt,xn)\n",
        "print('The training classification error is:', error(train_label, xn_label))\n",
        "\n",
        "test_xn = np.column_stack((np.ones([xn_test.shape[0],1],dtype=float),xn_test))\n",
        "test_label = predict(w_opt,test_xn)\n",
        "\n",
        "print('The testing classification error is:', error(test_label, y_label))"
      ],
      "metadata": {
        "colab": {
          "base_uri": "https://localhost:8080/"
        },
        "id": "rWe9PVyM6nAr",
        "outputId": "c066c292-b8c1-4f26-8375-fd9e4a09324e"
      },
      "execution_count": null,
      "outputs": [
        {
          "output_type": "stream",
          "name": "stdout",
          "text": [
            "(100, 3) (100, 3)\n",
            "Linearly Separable\n",
            "The optimal weights are: [ 1.1        -3.28495439  3.63821648]\n",
            "The training classification error is: 0.0\n",
            "The testing classification error is: 0.0\n"
          ]
        }
      ]
    },
    {
      "cell_type": "code",
      "source": [
        "print('The final value of the criterion function is:',(J_d[-1]))"
      ],
      "metadata": {
        "colab": {
          "base_uri": "https://localhost:8080/"
        },
        "id": "czq-GLiuieKw",
        "outputId": "221a6fcf-10c1-4243-f67b-b6a916f23cc7"
      },
      "execution_count": null,
      "outputs": [
        {
          "output_type": "stream",
          "name": "stdout",
          "text": [
            "The final value of the criterion function is: 118.77973841170846\n"
          ]
        }
      ]
    },
    {
      "cell_type": "code",
      "source": [
        "plt.plot(axis, J_d[:len(axis)],marker = 'x')\n",
        "plt.xlabel('Number of Iterations')\n",
        "plt.ylabel('Criterion Function')\n",
        "plt.title('Learning Curve')"
      ],
      "metadata": {
        "colab": {
          "base_uri": "https://localhost:8080/",
          "height": 312
        },
        "id": "boW3VAqcRpws",
        "outputId": "e15985d9-e5dc-4d52-a37b-e69f65928ba1"
      },
      "execution_count": null,
      "outputs": [
        {
          "output_type": "execute_result",
          "data": {
            "text/plain": [
              "Text(0.5, 1.0, 'Learning Curve')"
            ]
          },
          "metadata": {},
          "execution_count": 75
        },
        {
          "output_type": "display_data",
          "data": {
            "text/plain": [
              "<Figure size 432x288 with 1 Axes>"
            ],
            "image/png": "[encoded data removed]"
          },
          "metadata": {
            "needs_background": "light"
          }
        }
      ]
    },
    {
      "cell_type": "code",
      "source": [
        "x_min = min(xn[:, 1])\n",
        "x_max = max(xn[:, 1])\n",
        "x = np.linspace(x_min, x_max)\n",
        "y = -(w_opt[0]+w_opt[1]*x)/w_opt[2]\n",
        "\n",
        "plt.plot(x, y, label = 'Decision Boundary')\n",
        "plt.scatter(xn[xn_label == 1, 1], xn[xn_label == 1, 2], c='g', label = 'Class 1')\n",
        "plt.scatter(xn[xn_label == 2, 1], xn[xn_label == 2, 2], c='y', label = 'Class 2')\n",
        "plt.legend()"
      ],
      "metadata": {
        "colab": {
          "base_uri": "https://localhost:8080/",
          "height": 286
        },
        "id": "acIAlD-hXAZe",
        "outputId": "7ce6b8b5-6135-4ffc-b3b7-a5ef8f69189a"
      },
      "execution_count": null,
      "outputs": [
        {
          "output_type": "execute_result",
          "data": {
            "text/plain": [
              "<matplotlib.legend.Legend at 0x7f99ddba28b0>"
            ]
          },
          "metadata": {},
          "execution_count": 76
        },
        {
          "output_type": "display_data",
          "data": {
            "text/plain": [
              "<Figure size 432x288 with 1 Axes>"
            ],
            "image/png": "[encoded data removed]"
          },
          "metadata": {
            "needs_background": "light"
          }
        }
      ]
    },
    {
      "cell_type": "markdown",
      "source": [
        "Q4a)ii. Stochastic Gradient Descent-Variant 1"
      ],
      "metadata": {
        "id": "2I0smAWP7RQ1"
      }
    },
    {
      "cell_type": "code",
      "source": [
        "xn_train,xn_label,xn_test,y_label = data_split(data_train, data_test)\n",
        "xn, g = ref(xn_train, xn_label)\n",
        "\n",
        "# #Shuffling the dataset\n",
        "# xn = shuffle(xn, random_state = 150)\n",
        "# g = shuffle(g, random_state = 150)\n",
        "# xn_label = shuffle(xn_label, random_state = 150)\n",
        "\n",
        "#Initializing the weights\n",
        "w = 0.1*np.ones([3,1])\n",
        "w_out = np.ones([3,10000])\n",
        "\n",
        "#Training\n",
        "l = int(g.shape[0])\n",
        "epochs = int(10000/l)\n",
        "axis = []\n",
        "for i in range(epochs):\n",
        "  count = 0\n",
        "  xn,g,xn_label = shuffle(xn,g,xn_label)\n",
        "  # g = shuffle(g)\n",
        "  # xn_label = shuffle(xn_label)\n",
        "\n",
        "  for j in range(l):\n",
        "    ind = i*epochs + j\n",
        "    axis.append(ind + 1)\n",
        "    z = np.dot(w.T, g[j,:])\n",
        "\n",
        "    if z <= 0:\n",
        "      w = w + 1*g[j,:].reshape([3,1])\n",
        "      count = 0\n",
        "\n",
        "    else:\n",
        "      count = count + 1\n",
        "\n",
        "    w_out[:,ind] = w.T\n",
        "\n",
        "  if count == 100:\n",
        "    print('Linearly Separable')\n",
        "    break\n",
        "\n",
        "J_d = np.zeros(10000)\n",
        "\n",
        "for j in range(10000):\n",
        "  J_d[j] = crit(w_out[:,j], g)\n",
        "\n",
        "w_opt = w_out[:, np.argmin(J_d)]\n",
        "print('The optimal weights are:', w_opt)\n",
        "\n",
        "train_label = predict(w_opt,xn)\n",
        "print('The training classification error is:', error(train_label, xn_label))\n",
        "\n",
        "test_xn = np.column_stack((np.ones([xn_test.shape[0],1],dtype=float),xn_test))\n",
        "test_label = predict(w_opt,test_xn)\n",
        "\n",
        "print('The testing classification error is:', error(test_label, y_label))"
      ],
      "metadata": {
        "colab": {
          "base_uri": "https://localhost:8080/"
        },
        "id": "m3BV_p-HY45E",
        "outputId": "2242cc93-86d1-4674-a3cf-ebc51b6da580"
      },
      "execution_count": null,
      "outputs": [
        {
          "output_type": "stream",
          "name": "stdout",
          "text": [
            "Linearly Separable\n",
            "The optimal weights are: [ 0.1        -4.74413336  5.44791689]\n",
            "The training classification error is: 0.0\n",
            "The testing classification error is: 0.0\n"
          ]
        }
      ]
    },
    {
      "cell_type": "code",
      "source": [
        "print('The final value of the criterion function is:',(J_d[-1]))"
      ],
      "metadata": {
        "colab": {
          "base_uri": "https://localhost:8080/"
        },
        "id": "64Zuen55icWq",
        "outputId": "f76eaf05-b245-4211-b4de-cbc4a9dbd6a4"
      },
      "execution_count": null,
      "outputs": [
        {
          "output_type": "stream",
          "name": "stdout",
          "text": [
            "The final value of the criterion function is: 118.77973841170844\n"
          ]
        }
      ]
    },
    {
      "cell_type": "code",
      "source": [
        "plt.plot(axis, J_d[:len(axis)],marker = 'x')\n",
        "plt.xlabel('Number of Iterations')\n",
        "plt.ylabel('Criterion Function')\n",
        "plt.title('Learning Curve')"
      ],
      "metadata": {
        "colab": {
          "base_uri": "https://localhost:8080/",
          "height": 312
        },
        "id": "-GwQvv8oTfUn",
        "outputId": "c76717a9-5ca5-4756-e42f-ffd0ca365155"
      },
      "execution_count": null,
      "outputs": [
        {
          "output_type": "execute_result",
          "data": {
            "text/plain": [
              "Text(0.5, 1.0, 'Learning Curve')"
            ]
          },
          "metadata": {},
          "execution_count": 79
        },
        {
          "output_type": "display_data",
          "data": {
            "text/plain": [
              "<Figure size 432x288 with 1 Axes>"
            ],
            "image/png": "[encoded data removed]"
          },
          "metadata": {
            "needs_background": "light"
          }
        }
      ]
    },
    {
      "cell_type": "code",
      "source": [
        "x_min = min(xn[:, 1])\n",
        "x_max = max(xn[:, 1])\n",
        "x = np.linspace(x_min, x_max)\n",
        "y = -(w_opt[0]+w_opt[1]*x)/w_opt[2]\n",
        "\n",
        "plt.plot(x, y, label = 'Decision Boundary')\n",
        "plt.scatter(xn[xn_label == 1, 1], xn[xn_label == 1, 2], c='g', label = 'Class 1')\n",
        "plt.scatter(xn[xn_label == 2, 1], xn[xn_label == 2, 2], c='y', label = 'Class 2')\n",
        "plt.legend()"
      ],
      "metadata": {
        "colab": {
          "base_uri": "https://localhost:8080/",
          "height": 286
        },
        "id": "1M05tIqTYwnn",
        "outputId": "e70e384b-3641-4358-caec-2dcde144ef76"
      },
      "execution_count": null,
      "outputs": [
        {
          "output_type": "execute_result",
          "data": {
            "text/plain": [
              "<matplotlib.legend.Legend at 0x7f99dd820760>"
            ]
          },
          "metadata": {},
          "execution_count": 80
        },
        {
          "output_type": "display_data",
          "data": {
            "text/plain": [
              "<Figure size 432x288 with 1 Axes>"
            ],
            "image/png": "[encoded data removed]"
          },
          "metadata": {
            "needs_background": "light"
          }
        }
      ]
    },
    {
      "cell_type": "code",
      "source": [
        "Q4b)i. Sequential Gradient Descent"
      ],
      "metadata": {
        "id": "wFzjKmgp7VTA"
      },
      "execution_count": null,
      "outputs": []
    },
    {
      "cell_type": "code",
      "source": [
        "data_train = np.array(np.loadtxt(\"/content/dataset2_train.csv\", delimiter = \",\", dtype = float))\n",
        "data_test = np.array(np.loadtxt(\"/content/dataset2_test.csv\", delimiter = \",\", dtype = float))"
      ],
      "metadata": {
        "id": "MN3w9LcZD5li"
      },
      "execution_count": null,
      "outputs": []
    },
    {
      "cell_type": "code",
      "source": [
        "xn_train,xn_label,xn_test,y_label = data_split(data_train, data_test)\n",
        "xn, g = ref(xn_train, xn_label)\n",
        "#Shuffling the dataset\n",
        "\n",
        "xn = shuffle(xn, random_state = 150)\n",
        "g = shuffle(g, random_state = 150)\n",
        "xn_label = shuffle(xn_label, random_state = 150)\n",
        "\n",
        "#Initializing the weights\n",
        "w = 0.1*np.ones([3,1])\n",
        "w_out = np.ones([3,10000])\n",
        "\n",
        "#Training\n",
        "l = int(g.shape[0])\n",
        "epochs = int(10000/l)\n",
        "axis = []\n",
        "\n",
        "for i in range(epochs):\n",
        "  count = 0\n",
        "  for j in range(l):\n",
        "    ind = i*epochs + j\n",
        "    axis.append(ind + 1)\n",
        "    z = np.dot(w.T, g[j,:])\n",
        "\n",
        "    if z <= 0:\n",
        "      w = w + 1*g[j,:].reshape([3,1])\n",
        "      count = 0\n",
        "\n",
        "    else:\n",
        "      count = count + 1\n",
        "\n",
        "    w_out[:,ind] = w.T\n",
        "\n",
        "  if count == 100:\n",
        "    print('Linearly Separable')\n",
        "    break\n",
        "\n",
        "J_d = np.zeros(10000)\n",
        "\n",
        "for j in range(10000):\n",
        "  J_d[j] = crit(w_out[:,j], g)\n",
        "\n",
        "w_opt = w_out[:, np.argmin(J_d)]\n",
        "print('The optimal weights are:', w_opt)\n",
        "\n",
        "train_label = predict(w_opt,xn)\n",
        "print('The training classification error is:', error(train_label, xn_label))\n",
        "\n",
        "test_xn = np.column_stack((np.ones([xn_test.shape[0],1],dtype=float),xn_test))\n",
        "test_label = predict(w_opt,test_xn)\n",
        "\n",
        "print('The testing classification error is:', error(test_label, y_label))"
      ],
      "metadata": {
        "colab": {
          "base_uri": "https://localhost:8080/"
        },
        "id": "8-1tLrcWFl5x",
        "outputId": "eeb2fa1c-1a53-484d-f474-3604af3a7ce7"
      },
      "execution_count": null,
      "outputs": [
        {
          "output_type": "stream",
          "name": "stdout",
          "text": [
            "Linearly Separable\n",
            "The optimal weights are: [-0.9        -0.03912635  2.18701763]\n",
            "The training classification error is: 0.0\n",
            "The testing classification error is: 1.0\n"
          ]
        }
      ]
    },
    {
      "cell_type": "code",
      "source": [
        "print('The final value of the criterion function is:',(J_d[-1]))"
      ],
      "metadata": {
        "colab": {
          "base_uri": "https://localhost:8080/"
        },
        "id": "UI2PtwsOiank",
        "outputId": "ab3ea696-4e32-4837-be74-4cbaee223372"
      },
      "execution_count": null,
      "outputs": [
        {
          "output_type": "stream",
          "name": "stdout",
          "text": [
            "The final value of the criterion function is: 102.59385636080181\n"
          ]
        }
      ]
    },
    {
      "cell_type": "code",
      "source": [
        "plt.plot(axis, J_d[:len(axis)],marker = 'x')\n",
        "plt.xlabel('Number of Iterations')\n",
        "plt.ylabel('Criterion Function')\n",
        "plt.title('Learning Curve')"
      ],
      "metadata": {
        "colab": {
          "base_uri": "https://localhost:8080/",
          "height": 312
        },
        "id": "i_JwK8DHTiud",
        "outputId": "fb93e4aa-6261-47f7-90b8-ad6515f15749"
      },
      "execution_count": null,
      "outputs": [
        {
          "output_type": "execute_result",
          "data": {
            "text/plain": [
              "Text(0.5, 1.0, 'Learning Curve')"
            ]
          },
          "metadata": {},
          "execution_count": 84
        },
        {
          "output_type": "display_data",
          "data": {
            "text/plain": [
              "<Figure size 432x288 with 1 Axes>"
            ],
            "image/png": "[encoded data removed]"
          },
          "metadata": {
            "needs_background": "light"
          }
        }
      ]
    },
    {
      "cell_type": "code",
      "source": [
        "x_min = min(xn[:, 1])\n",
        "x_max = max(xn[:, 1])\n",
        "x = np.linspace(x_min, x_max)\n",
        "y = -(w_opt[0]+w_opt[1]*x)/w_opt[2]\n",
        "\n",
        "plt.plot(x, y, label = 'Decision Boundary')\n",
        "plt.scatter(xn[xn_label == 1, 1], xn[xn_label == 1, 2], c='g', label = 'Class 1')\n",
        "plt.scatter(xn[xn_label == 2, 1], xn[xn_label == 2, 2], c='y', label = 'Class 2')\n",
        "plt.legend()"
      ],
      "metadata": {
        "colab": {
          "base_uri": "https://localhost:8080/",
          "height": 282
        },
        "id": "R_saEQTiY3r2",
        "outputId": "477b5cf9-6f93-4050-ac5a-d946342c2541"
      },
      "execution_count": null,
      "outputs": [
        {
          "output_type": "execute_result",
          "data": {
            "text/plain": [
              "<matplotlib.legend.Legend at 0x7f99de2a0e80>"
            ]
          },
          "metadata": {},
          "execution_count": 85
        },
        {
          "output_type": "display_data",
          "data": {
            "text/plain": [
              "<Figure size 432x288 with 1 Axes>"
            ],
            "image/png": "[encoded data removed]"
          },
          "metadata": {
            "needs_background": "light"
          }
        }
      ]
    },
    {
      "cell_type": "markdown",
      "source": [
        "Q4b)ii. Stochastic Gradient Descent- Variant 1"
      ],
      "metadata": {
        "id": "RG55TiuM7amI"
      }
    },
    {
      "cell_type": "code",
      "source": [
        "xn_train,xn_label,xn_test,y_label = data_split(data_train, data_test)\n",
        "xn, g = ref(xn_train, xn_label)\n",
        "#Shuffling the dataset\n",
        "\n",
        "# xn = shuffle(xn, random_state = 150)\n",
        "# g = shuffle(g, random_state = 150)\n",
        "# xn_label = shuffle(xn_label, random_state = 150)\n",
        "\n",
        "#Initializing the weights\n",
        "w = 0.1*np.ones([3,1])\n",
        "w_out = np.ones([3,10000])\n",
        "\n",
        "#Training\n",
        "l = int(g.shape[0])\n",
        "epochs = int(10000/l)\n",
        "axis = []\n",
        "\n",
        "for i in range(epochs):\n",
        "  xn,g,xn_label = shuffle(xn,g,xn_label)\n",
        "  count = 0\n",
        "  for j in range(l):\n",
        "    ind = i*epochs + j\n",
        "    axis.append(ind + 1)\n",
        "    z = np.dot(w.T, g[j,:])\n",
        "\n",
        "    if z <= 0:\n",
        "      w = w + 1*g[j,:].reshape([3,1])\n",
        "      count = 0\n",
        "\n",
        "    else:\n",
        "      count = count + 1\n",
        "\n",
        "    w_out[:,ind] = w.T\n",
        "\n",
        "  if count == 100:\n",
        "    print('Linearly Separable')\n",
        "    break\n",
        "\n",
        "J_d = np.zeros(10000)\n",
        "\n",
        "for j in range(10000):\n",
        "  J_d[j] = crit(w_out[:,j], g)\n",
        "\n",
        "w_opt = w_out[:, np.argmin(J_d)]\n",
        "print('The optimal weights are:', w_opt)\n",
        "\n",
        "train_label = predict(w_opt,xn)\n",
        "print('The training classification error is:', error(train_label, xn_label))\n",
        "\n",
        "test_xn = np.column_stack((np.ones([xn_test.shape[0],1],dtype=float),xn_test))\n",
        "test_label = predict(w_opt,test_xn)\n",
        "\n",
        "print('The testing classification error is:', error(test_label, y_label))"
      ],
      "metadata": {
        "colab": {
          "base_uri": "https://localhost:8080/"
        },
        "id": "y-S45boJa_lb",
        "outputId": "567e192a-d1d7-40eb-c32e-4680f73fd7f6"
      },
      "execution_count": null,
      "outputs": [
        {
          "output_type": "stream",
          "name": "stdout",
          "text": [
            "Linearly Separable\n",
            "The optimal weights are: [-0.9        -0.06331729  2.06192659]\n",
            "The training classification error is: 0.0\n",
            "The testing classification error is: 0.0\n"
          ]
        }
      ]
    },
    {
      "cell_type": "code",
      "source": [
        "print('The final value of the criterion function is:',(J_d[-1]))"
      ],
      "metadata": {
        "colab": {
          "base_uri": "https://localhost:8080/"
        },
        "id": "6F1GvVAIiYsg",
        "outputId": "93f6b4e7-045a-4913-ee08-cda4bdb1ec9e"
      },
      "execution_count": null,
      "outputs": [
        {
          "output_type": "stream",
          "name": "stdout",
          "text": [
            "The final value of the criterion function is: 102.59385636080181\n"
          ]
        }
      ]
    },
    {
      "cell_type": "code",
      "source": [
        "plt.plot(axis, J_d[:len(axis)],marker = 'x')\n",
        "plt.xlabel('Number of Iterations')\n",
        "plt.ylabel('Criterion Function')\n",
        "plt.title('Learning Curve')"
      ],
      "metadata": {
        "colab": {
          "base_uri": "https://localhost:8080/",
          "height": 312
        },
        "id": "wAqII2H0TlFa",
        "outputId": "c7e93a5b-908c-4017-cf90-2ec39d7b91f6"
      },
      "execution_count": null,
      "outputs": [
        {
          "output_type": "execute_result",
          "data": {
            "text/plain": [
              "Text(0.5, 1.0, 'Learning Curve')"
            ]
          },
          "metadata": {},
          "execution_count": 88
        },
        {
          "output_type": "display_data",
          "data": {
            "text/plain": [
              "<Figure size 432x288 with 1 Axes>"
            ],
            "image/png": "[encoded data removed]"
          },
          "metadata": {
            "needs_background": "light"
          }
        }
      ]
    },
    {
      "cell_type": "code",
      "source": [
        "x_min = min(xn[:, 1])\n",
        "x_max = max(xn[:, 1])\n",
        "x = np.linspace(x_min, x_max)\n",
        "y = -(w_opt[0]+w_opt[1]*x)/w_opt[2]\n",
        "\n",
        "plt.plot(x, y, label = 'Decision Boundary')\n",
        "plt.scatter(xn[xn_label == 1, 1], xn[xn_label == 1, 2], c='g', label = 'Class 1')\n",
        "plt.scatter(xn[xn_label == 2, 1], xn[xn_label == 2, 2], c='y', label = 'Class 2')\n",
        "plt.legend()"
      ],
      "metadata": {
        "colab": {
          "base_uri": "https://localhost:8080/",
          "height": 282
        },
        "id": "kN6Ap37fY5Kj",
        "outputId": "a406c7cd-0d60-4742-f418-0016d8229cdb"
      },
      "execution_count": null,
      "outputs": [
        {
          "output_type": "execute_result",
          "data": {
            "text/plain": [
              "<matplotlib.legend.Legend at 0x7f99dd761fd0>"
            ]
          },
          "metadata": {},
          "execution_count": 89
        },
        {
          "output_type": "display_data",
          "data": {
            "text/plain": [
              "<Figure size 432x288 with 1 Axes>"
            ],
            "image/png": "[encoded data removed]"
          },
          "metadata": {
            "needs_background": "light"
          }
        }
      ]
    },
    {
      "cell_type": "markdown",
      "source": [
        "Q4c)i. Sequential Gradient Descent"
      ],
      "metadata": {
        "id": "l5v0QDLG7f_K"
      }
    },
    {
      "cell_type": "code",
      "source": [
        "data_train = np.array(np.loadtxt(\"/content/dataset3_train.csv\", delimiter = \",\", dtype = float))\n",
        "data_test = np.array(np.loadtxt(\"/content/dataset3_test.csv\", delimiter = \",\", dtype = float))"
      ],
      "metadata": {
        "id": "ohz63WeuEs7m"
      },
      "execution_count": null,
      "outputs": []
    },
    {
      "cell_type": "code",
      "source": [
        "xn_train,xn_label,xn_test,y_label = data_split(data_train, data_test)\n",
        "xn, g = ref(xn_train, xn_label)\n",
        "\n",
        "#Shuffling the dataset\n",
        "xn = shuffle(xn, random_state = 150)\n",
        "g = shuffle(g, random_state = 150)\n",
        "xn_label = shuffle(xn_label, random_state = 150)\n",
        "\n",
        "#Initializing the weights\n",
        "w = 0.1*np.ones([3,1])\n",
        "w_out = np.ones([3,10000])\n",
        "\n",
        "#Training\n",
        "l = int(g.shape[0])\n",
        "epochs = int(10000/l)\n",
        "axis = []\n",
        "axis_epoch = []\n",
        "\n",
        "for i in range(epochs):\n",
        "  count = 0\n",
        "  axis_epoch.append(i + 1)\n",
        "  for j in range(l):\n",
        "    ind = i*epochs + j\n",
        "    axis.append(ind + 1)\n",
        "    z = np.dot(w.T, g[j,:])\n",
        "\n",
        "    if z <= 0:\n",
        "      w = w + 1*g[j,:].reshape([3,1])\n",
        "      count = 0\n",
        "\n",
        "    else:\n",
        "      count = count + 1\n",
        "\n",
        "    w_out[:,ind] = w.T\n",
        "\n",
        "  if count == 100:\n",
        "    print('Linearly Separable')\n",
        "    break\n",
        "\n",
        "J_d = np.zeros(10000)\n",
        "\n",
        "for j in range(10000):\n",
        "  J_d[j] = crit(w_out[:,j], g)\n",
        "\n",
        "w_opt = w_out[:, np.argmin(J_d)]\n",
        "print('The optimal weights are:', w_opt)\n",
        "\n",
        "train_label = predict(w_opt,xn)\n",
        "print('The classification error is:', error(train_label, xn_label))\n",
        "\n",
        "test_xn = np.column_stack((np.ones([xn_test.shape[0],1],dtype=float),xn_test))\n",
        "test_label = predict(w_opt,test_xn)\n",
        "\n",
        "print('The testing classification error is:', error(test_label, y_label))"
      ],
      "metadata": {
        "colab": {
          "base_uri": "https://localhost:8080/"
        },
        "id": "DMJ-cpgHEoXB",
        "outputId": "7964b905-f8f4-4d0f-9caf-c9a6ae0e1d67"
      },
      "execution_count": null,
      "outputs": [
        {
          "output_type": "stream",
          "name": "stdout",
          "text": [
            "The optimal weights are: [ 0.1        -0.05843529 -0.14301252]\n",
            "The classification error is: 24.0\n",
            "The testing classification error is: 25.0\n"
          ]
        }
      ]
    },
    {
      "cell_type": "code",
      "source": [
        "print('The final value of the criterion function is:',(J_d[-1]))"
      ],
      "metadata": {
        "colab": {
          "base_uri": "https://localhost:8080/"
        },
        "id": "SEn1JWH8iWsj",
        "outputId": "8f97b4c6-c309-4fa8-cfe4-cfcf6b496407"
      },
      "execution_count": null,
      "outputs": [
        {
          "output_type": "stream",
          "name": "stdout",
          "text": [
            "The final value of the criterion function is: 58.84730614193849\n"
          ]
        }
      ]
    },
    {
      "cell_type": "code",
      "source": [
        "plt.plot(axis_epoch, J_d[:len(axis_epoch)],marker = 'x')\n",
        "plt.xlabel('Number of Iterations')\n",
        "plt.ylabel('Criterion Function')\n",
        "plt.title('Learning Curve')"
      ],
      "metadata": {
        "colab": {
          "base_uri": "https://localhost:8080/",
          "height": 312
        },
        "id": "lc5CD5xLTneT",
        "outputId": "ff8b6edb-6108-45f9-f5ed-86bda3dbed1d"
      },
      "execution_count": null,
      "outputs": [
        {
          "output_type": "execute_result",
          "data": {
            "text/plain": [
              "Text(0.5, 1.0, 'Learning Curve')"
            ]
          },
          "metadata": {},
          "execution_count": 93
        },
        {
          "output_type": "display_data",
          "data": {
            "text/plain": [
              "<Figure size 432x288 with 1 Axes>"
            ],
            "image/png": "[encoded data removed]"
          },
          "metadata": {
            "needs_background": "light"
          }
        }
      ]
    },
    {
      "cell_type": "code",
      "source": [
        "x_min = min(xn[:, 1])\n",
        "x_max = max(xn[:, 1])\n",
        "x = np.linspace(x_min, x_max)\n",
        "y = -(w_opt[0]+w_opt[1]*x)/w_opt[2]\n",
        "\n",
        "plt.plot(x, y, label = 'Decision Boundary')\n",
        "plt.scatter(xn[xn_label == 1, 1], xn[xn_label == 1, 2], c='g', label = 'Class 1')\n",
        "plt.scatter(xn[xn_label == 2, 1], xn[xn_label == 2, 2], c='y', label = 'Class 2')\n",
        "plt.legend()"
      ],
      "metadata": {
        "colab": {
          "base_uri": "https://localhost:8080/",
          "height": 282
        },
        "id": "xjgHfRlaY64o",
        "outputId": "dbd6196e-02d6-432a-8765-ed9300d1b4c9"
      },
      "execution_count": null,
      "outputs": [
        {
          "output_type": "execute_result",
          "data": {
            "text/plain": [
              "<matplotlib.legend.Legend at 0x7f99dd7a5670>"
            ]
          },
          "metadata": {},
          "execution_count": 94
        },
        {
          "output_type": "display_data",
          "data": {
            "text/plain": [
              "<Figure size 432x288 with 1 Axes>"
            ],
            "image/png": "[encoded data removed]"
          },
          "metadata": {
            "needs_background": "light"
          }
        }
      ]
    },
    {
      "cell_type": "markdown",
      "source": [
        "Q4c)ii. Stochastic Gradient Descent- Variant 1"
      ],
      "metadata": {
        "id": "I4nLINUa7jz9"
      }
    },
    {
      "cell_type": "code",
      "source": [
        "data_train = np.array(np.loadtxt(\"/content/dataset3_train.csv\", delimiter = \",\", dtype = float))\n",
        "data_test = np.array(np.loadtxt(\"/content/dataset3_test.csv\", delimiter = \",\", dtype = float))"
      ],
      "metadata": {
        "id": "AnQgKNCkZTum"
      },
      "execution_count": null,
      "outputs": []
    },
    {
      "cell_type": "code",
      "source": [
        "xn_train,xn_label,xn_test,y_label = data_split(data_train, data_test)\n",
        "xn, g = ref(xn_train, xn_label)\n",
        "\n",
        "#Shuffling the dataset\n",
        "# xn = shuffle(xn, random_state = 150)\n",
        "# g = shuffle(g, random_state = 150)\n",
        "# xn_label = shuffle(xn_label, random_state = 150)\n",
        "\n",
        "#Initializing the weights\n",
        "w = 0.1*np.ones([3,1])\n",
        "w_out = np.ones([3,10000])\n",
        "\n",
        "#Training\n",
        "l = int(g.shape[0])\n",
        "epochs = int(10000/l)\n",
        "axis = []\n",
        "axis_epoch = []\n",
        "\n",
        "for i in range(epochs):\n",
        "  xn,g,xn_label = shuffle(xn,g,xn_label)\n",
        "  count = 0\n",
        "  axis_epoch.append(i + 1)\n",
        "  for j in range(l):\n",
        "    ind = i*epochs + j\n",
        "    axis.append(ind + 1)\n",
        "    z = np.dot(w.T, g[j,:])\n",
        "\n",
        "    if z <= 0:\n",
        "      w = w + 1*g[j,:].reshape([3,1])\n",
        "      count = 0\n",
        "\n",
        "    else:\n",
        "      count = count + 1\n",
        "\n",
        "    w_out[:,ind] = w.T\n",
        "\n",
        "  if count == 100:\n",
        "    print('Linearly Separable')\n",
        "    break\n",
        "\n",
        "J_d = np.zeros(10000)\n",
        "\n",
        "for j in range(10000):\n",
        "  J_d[j] = crit(w_out[:,j], g)\n",
        "\n",
        "w_opt = w_out[:, np.argmin(J_d)]\n",
        "print('The optimal weights are:', w_opt)\n",
        "\n",
        "train_label = predict(w_opt,xn)\n",
        "print('The classification error is:', error(train_label, xn_label))\n",
        "\n",
        "test_xn = np.column_stack((np.ones([xn_test.shape[0],1],dtype=float),xn_test))\n",
        "test_label = predict(w_opt,test_xn)\n",
        "\n",
        "print('The testing classification error is:', error(test_label, y_label))"
      ],
      "metadata": {
        "colab": {
          "base_uri": "https://localhost:8080/"
        },
        "id": "z20cYrnrE3fX",
        "outputId": "0ad246e7-c580-49ce-9b21-c8f11d99428d"
      },
      "execution_count": null,
      "outputs": [
        {
          "output_type": "stream",
          "name": "stdout",
          "text": [
            "The optimal weights are: [ 0.1        -0.04660319 -0.15235231]\n",
            "The classification error is: 25.0\n",
            "The testing classification error is: 25.0\n"
          ]
        }
      ]
    },
    {
      "cell_type": "code",
      "source": [
        "print('The final value of the criterion function is:',(J_d[-1]))"
      ],
      "metadata": {
        "colab": {
          "base_uri": "https://localhost:8080/"
        },
        "id": "VRsoMtTUhibX",
        "outputId": "e545b51a-b849-49db-f855-e80fdcc07b86"
      },
      "execution_count": null,
      "outputs": [
        {
          "output_type": "stream",
          "name": "stdout",
          "text": [
            "The final value of the criterion function is: 184.02605600301624\n"
          ]
        }
      ]
    },
    {
      "cell_type": "code",
      "source": [
        "plt.plot(axis_epoch, J_d[:len(axis_epoch)],marker = 'x')\n",
        "plt.xlabel('Number of Iterations')\n",
        "plt.ylabel('Criterion Function')\n",
        "plt.title('Learning Curve')"
      ],
      "metadata": {
        "colab": {
          "base_uri": "https://localhost:8080/",
          "height": 312
        },
        "id": "nEmJy2fMbYoq",
        "outputId": "3702bac4-a7d3-43c8-8b68-e091dcb7083a"
      },
      "execution_count": null,
      "outputs": [
        {
          "output_type": "execute_result",
          "data": {
            "text/plain": [
              "Text(0.5, 1.0, 'Learning Curve')"
            ]
          },
          "metadata": {},
          "execution_count": 62
        },
        {
          "output_type": "display_data",
          "data": {
            "text/plain": [
              "<Figure size 432x288 with 1 Axes>"
            ],
            "image/png": "[encoded data removed]"
          },
          "metadata": {
            "needs_background": "light"
          }
        }
      ]
    },
    {
      "cell_type": "code",
      "source": [
        "x_min = min(xn[:, 1])\n",
        "x_max = max(xn[:, 1])\n",
        "x = np.linspace(x_min, x_max)\n",
        "y = -(w_opt[0]+w_opt[1]*x)/w_opt[2]\n",
        "\n",
        "plt.plot(x, y, label = 'Decision Boundary')\n",
        "plt.scatter(xn[xn_label == 1, 1], xn[xn_label == 1, 2], c='g', label = 'Class 1')\n",
        "plt.scatter(xn[xn_label == 2, 1], xn[xn_label == 2, 2], c='y', label = 'Class 2')\n",
        "plt.legend()"
      ],
      "metadata": {
        "colab": {
          "base_uri": "https://localhost:8080/",
          "height": 282
        },
        "id": "Jbm8dCkSUzl-",
        "outputId": "54b7613f-d5c3-4113-d252-3128e4bec63b"
      },
      "execution_count": null,
      "outputs": [
        {
          "output_type": "execute_result",
          "data": {
            "text/plain": [
              "<matplotlib.legend.Legend at 0x7f99dd8bb640>"
            ]
          },
          "metadata": {},
          "execution_count": 63
        },
        {
          "output_type": "display_data",
          "data": {
            "text/plain": [
              "<Figure size 432x288 with 1 Axes>"
            ],
            "image/png": "[encoded data removed]"
          },
          "metadata": {
            "needs_background": "light"
          }
        }
      ]
    },
    {
      "cell_type": "markdown",
      "source": [
        "Q4d)i. Sequential Gradient Descent"
      ],
      "metadata": {
        "id": "4cDY5N0I7onj"
      }
    },
    {
      "cell_type": "code",
      "source": [
        "data_train = np.load('/content/breast_cancer_train.npy')\n",
        "data_test = np.load('/content/breast_cancer_test.npy')\n",
        "\n",
        "xn_train, xn_label, xn_test, y_label = data_split(data_train,data_test)\n",
        "xn_norm = np.linalg.norm(xn_train, ord = 1, axis = 0)\n",
        "xn_train = 100*xn_train/xn_norm\n",
        "xn,g = ref(xn_train, xn_label)\n",
        "xn_test = 100*xn_test/xn_norm\n",
        "xn,g,xn_label = shuffle(xn,g,xn_label, random_state = 150)\n",
        "#Initializing the weights\n",
        "w = 0.1*np.ones([31,1])\n",
        "w_out = np.ones([31,10000])\n",
        "\n",
        "#Training\n",
        "l = int(g.shape[0])\n",
        "epochs = int(10000/l)\n",
        "d = []\n",
        "ind = 0\n",
        "axis_epoch = []\n",
        "for i in range(epochs + 1):\n",
        "  axis_epoch.append(i + 1)\n",
        "  count = 0\n",
        "  for j in range(l):\n",
        "    ind = ind + 1\n",
        "    d.append(ind)\n",
        "    z = np.dot(w.T, g[j,:])\n",
        "\n",
        "    if z <= 0:\n",
        "      w = w + 1*g[j,:].reshape([31,1])\n",
        "      count = 0\n",
        "\n",
        "    else:\n",
        "      count = count + 1\n",
        "\n",
        "    if ind < 10000:\n",
        "      w_out[:, ind] = w.T\n",
        "\n",
        "  if ind == 10000:\n",
        "      break\n",
        "  if count == 480:\n",
        "      print(\"Linearly Separable\")\n",
        "      break\n",
        "\n",
        "J_d = np.zeros(10000)\n",
        "\n",
        "for j in range(10000):\n",
        "  J_d[j] = crit(w_out[:,j], g)\n",
        "\n",
        "w_opt = w_out[:, np.argmin(J_d)]\n",
        "print('The optimal weights are:', w_opt)\n",
        "\n",
        "train_label = predict(w_opt,xn)\n",
        "print('The training classification error is:', error(train_label, xn_label))\n",
        "\n",
        "test_xn = np.column_stack((np.ones([xn_test.shape[0],1],dtype=float),xn_test))\n",
        "test_label = predict(w_opt,test_xn)\n",
        "\n",
        "print('The testing classification error is:', error(test_label, y_label))\n",
        "\n",
        "print('The final value of the criterion function is:',(J_d[-1]))\n",
        "\n",
        "plt.plot(axis_epoch, J_d[:len(axis_epoch)],marker = 'x')\n",
        "plt.xlabel('Number of Iterations')\n",
        "plt.ylabel('Criterion Function')\n",
        "plt.title('Learning Curve')\n",
        "\n",
        "val = []\n",
        "for i in range(l):\n",
        "    value = np.dot(w_opt.T, xn[i, :])/np.linalg.norm(w_opt)\n",
        "    val.append([value])\n",
        "\n",
        "val = np.array([val]).reshape(480,1)\n",
        "class1 = val[xn_label==1]\n",
        "class2 = val[xn_label==2]\n",
        "plt.hist(val, label='Training Data', edgecolor='blue')\n",
        "plt.hist(class1, label='Class 1', edgecolor='blue')\n",
        "plt.hist(class2, label='Class 2', edgecolor='blue')\n",
        "plt.xlabel(\"Distance from the decision boundary\")\n",
        "plt.ylabel(\"Frequency\")\n",
        "plt.legend()\n"
      ],
      "metadata": {
        "id": "R2R-ZE857Gwl"
      },
      "execution_count": null,
      "outputs": []
    },
    {
      "cell_type": "markdown",
      "source": [
        "Q4d)ii. Stochastic Gradient Descent- Variant 1"
      ],
      "metadata": {
        "id": "RdjrUWhO7rZV"
      }
    },
    {
      "cell_type": "code",
      "source": [
        "data_train = np.load('/content/breast_cancer_train.npy')\n",
        "data_test = np.load('/content/breast_cancer_test.npy')\n",
        "\n",
        "xn_train, xn_label, xn_test, y_label = data_split(data_train,data_test)\n",
        "xn_norm = np.linalg.norm(xn_train, ord = 1, axis = 0)\n",
        "xn_train = 100*xn_train/xn_norm\n",
        "xn,g = ref(xn_train, xn_label)\n",
        "xn_test = 100*xn_test/xn_norm\n",
        "\n",
        "#Initializing the weights\n",
        "w = 0.1*np.ones([31,1])\n",
        "w_out = np.ones([31,10000])\n",
        "\n",
        "#Training\n",
        "l = int(g.shape[0])\n",
        "epochs = int(10000/l)\n",
        "d = []\n",
        "ind = 0\n",
        "axis_epoch = []\n",
        "\n",
        "for i in range(epochs + 1):\n",
        "  xn,g,xn_label = shuffle(xn,g,xn_label)\n",
        "  count = 0\n",
        "  axis_epoch.append(i + 1)\n",
        "  for j in range(l):\n",
        "    ind = ind + 1\n",
        "    d.append(ind)\n",
        "    z = np.dot(w.T, g[j,:])\n",
        "\n",
        "    if z <= 0:\n",
        "      w = w + 1*g[j,:].reshape([31,1])\n",
        "      count = 0\n",
        "\n",
        "    else:\n",
        "      count = count + 1\n",
        "\n",
        "    if ind < 10000:\n",
        "      w_out[:, ind] = w.T\n",
        "\n",
        "  if ind == 10000:\n",
        "      break\n",
        "  if count == 480:\n",
        "      print(\"Linearly Separable\")\n",
        "      break\n",
        "\n",
        "J_d = np.zeros(10000)\n",
        "\n",
        "for j in range(10000):\n",
        "  J_d[j] = crit(w_out[:,j], g)\n",
        "\n",
        "w_opt = w_out[:, np.argmin(J_d)]\n",
        "print('The optimal weights are:', w_opt)\n",
        "\n",
        "train_label = predict(w_opt,xn)\n",
        "print('The training classification error is:', error(train_label, xn_label))\n",
        "\n",
        "test_xn = np.column_stack((np.ones([xn_test.shape[0],1],dtype=float),xn_test))\n",
        "test_label = predict(w_opt,test_xn)\n",
        "\n",
        "print('The testing classification error is:', error(test_label, y_label))\n",
        "\n",
        "print('The final value of the criterion function is:',(J_d[-1]))\n",
        "\n",
        "plt.plot(axis_epoch, J_d[:len(axis_epoch)],marker = 'x')\n",
        "plt.xlabel('Number of Iterations')\n",
        "plt.ylabel('Criterion Function')\n",
        "plt.title('Learning Curve')\n",
        "\n",
        "val = []\n",
        "for i in range(l):\n",
        "    value = np.dot(w_opt.T, xn[i, :])/np.linalg.norm(w_opt)\n",
        "    val.append([value])\n",
        "\n",
        "val = np.array([val]).reshape(480,1)\n",
        "class1 = val[xn_label==1]\n",
        "class2 = val[xn_label==2]\n",
        "plt.hist(val, label='Training Data', edgecolor='blue')\n",
        "plt.hist(class1, label='Class 1', edgecolor='blue')\n",
        "plt.hist(class2, label='Class 2', edgecolor='blue')\n",
        "plt.xlabel(\"Distance from the decision boundary\")\n",
        "plt.ylabel(\"Frequency\")\n",
        "plt.legend()\n",
        "\n"
      ],
      "metadata": {
        "id": "PPrYbJxo6KGs"
      },
      "execution_count": null,
      "outputs": []
    },
    {
      "cell_type": "markdown",
      "source": [
        "Q5.b)"
      ],
      "metadata": {
        "id": "k1f9F1617xdF"
      }
    },
    {
      "cell_type": "code",
      "source": [
        "#Q5b)\n",
        "\n",
        "z =  np.linspace(start = -2, stop = 2, num = 41)\n",
        "\n",
        "def relu(x):\n",
        "  return (np.maximum(0,x))\n",
        "\n",
        "r = relu(z)\n",
        "\n",
        "def softplus(x):\n",
        "  return (np.log((1 + np.exp(x+ 10**(-23)))))\n",
        "\n",
        "x = softplus(z)\n",
        "\n",
        "plt.plot(z, r)\n",
        "plt.plot(z, x)\n",
        "plt.grid()\n",
        "plt.legend(['Relu','Soft'])\n",
        "plt.xlabel('Input')\n",
        "plt.ylabel('Activation Function output')\n",
        "plt.title('Relu v/s Soft')"
      ],
      "metadata": {
        "id": "BsdWnTDG6XT2"
      },
      "execution_count": null,
      "outputs": []
    },
    {
      "cell_type": "markdown",
      "source": [
        "Q5c)"
      ],
      "metadata": {
        "id": "-SbVwoez7zn1"
      }
    },
    {
      "cell_type": "code",
      "source": [
        "def sigmoid(z):\n",
        "    return 1 / (1 + np.exp(-z + 10**(-23)))\n",
        "\n",
        "def crit(w,x):\n",
        "  s = 0\n",
        "  l = int(x.shape[0])\n",
        "  for i in range(l):\n",
        "    z = np.dot(w.T, x[i,:])\n",
        "    s = np.mean(np.log((1 + np.exp(-z+ 10**(-23)))))\n",
        "  return s\n",
        "\n",
        "xn_train, xn_label, xn_test, y_label = data_split(data_train,data_test)\n",
        "xn_norm = np.linalg.norm(xn_train, ord = 1, axis = 0)\n",
        "xn_train = 100*xn_train/xn_norm\n",
        "xn,g = ref(xn_train, xn_label)\n",
        "xn_test = 100*normalize(xn_test, axis = 0, norm = 'l1')\n",
        "xn,g,xn_label = shuffle(xn,g,xn_label, random_state = 150)\n",
        "#Initializing the weights\n",
        "w = 0.1*np.ones([31,1])\n",
        "w_out = np.ones([31,10000])\n",
        "\n",
        "#Training\n",
        "l = int(g.shape[0])\n",
        "epochs = int(10000/l)\n",
        "d = []\n",
        "ind = 0\n",
        "axis_epoch = []\n",
        "\n",
        "for i in range(epochs + 1):\n",
        "\n",
        "  count = 0\n",
        "  axis_epoch.append(i + 1)\n",
        "  for j in range(l):\n",
        "    ind = ind + 1\n",
        "    d.append(ind)\n",
        "    z = np.dot(w.T, g[j,:])\n",
        "    dw = -(sigmoid(z)) * g[j,:]\n",
        "\n",
        "    w = w + 1*dw.reshape([31,1])\n",
        "\n",
        "    if ind < 10000:\n",
        "      w_out[:, ind] = w.T\n",
        "\n",
        "  if ind == 10000:\n",
        "      break\n",
        "  # if count == 480:\n",
        "  #     print(\"Linearly Separable\")\n",
        "  #     break\n",
        "\n",
        "J_d = np.zeros(10000)\n",
        "\n",
        "for j in range(10000):\n",
        "  J_d[j] = crit(w_out[:,j], g)\n",
        "\n",
        "w_opt = w_out[:, np.argmin(J_d)]\n",
        "print('The optimal weights are:', w_opt)\n",
        "\n",
        "train_label = predict(w_opt,xn)\n",
        "print('The training classification error is:', error(train_label, xn_label))\n",
        "\n",
        "test_xn = np.column_stack((np.ones([xn_test.shape[0],1],dtype=float),xn_test))\n",
        "test_label = predict(w_opt,test_xn)\n",
        "\n",
        "print('The testing classification error is:', error(test_label, y_label))\n",
        "\n",
        "print('The final value of the criterion function is:',(J_d[-1]))\n",
        "\n",
        "plt.plot(axis_epoch, J_d[:len(axis_epoch)],marker = 'x')\n",
        "plt.xlabel('Number of Iterations')\n",
        "plt.ylabel('Criterion Function')\n",
        "plt.title('Learning Curve')\n",
        "\n",
        "val = []\n",
        "for i in range(l):\n",
        "    value = np.dot(w_opt.T, xn[i, :])/np.linalg.norm(w_opt)\n",
        "    val.append([value])\n",
        "\n",
        "val = np.array([val]).reshape(480,1)\n",
        "class1 = val[xn_label==1]\n",
        "class2 = val[xn_label==2]\n",
        "plt.hist(val, label='Training Data', edgecolor='blue')\n",
        "plt.hist(class1, label='Class 1', edgecolor='blue')\n",
        "plt.hist(class2, label='Class 2', edgecolor='blue')\n",
        "plt.xlabel(\"Distance from the decision boundary\")\n",
        "plt.ylabel(\"Frequency\")\n",
        "plt.legend()\n",
        "\n"
      ],
      "metadata": {
        "id": "UAATTiPG6YTJ"
      },
      "execution_count": null,
      "outputs": []
    }
  ]
}